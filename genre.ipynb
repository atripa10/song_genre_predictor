{
 "cells": [
  {
   "cell_type": "code",
   "execution_count": 1,
   "metadata": {},
   "outputs": [],
   "source": [
    "import pandas as pd\n",
    "import numpy as np\n",
    "import nltk\n",
    "import re\n",
    "import matplotlib.pyplot as plt\n",
    "import seaborn as sns\n",
    "import gensim\n",
    "import multiprocessing\n",
    "from pyspark.sql import SQLContext\n",
    "from sklearn.linear_model import LogisticRegression\n",
    "from gensim.models import Doc2Vec\n",
    "from sklearn.model_selection import train_test_split\n",
    "from gensim.models.doc2vec import TaggedDocument\n",
    "from bs4 import BeautifulSoup\n",
    "from tqdm import tqdm\n",
    "from nltk.corpus import stopwords\n",
    "from sklearn import utils\n",
    "from tqdm import tqdm"
   ]
  },
  {
   "cell_type": "code",
   "execution_count": 2,
   "metadata": {},
   "outputs": [],
   "source": [
    "sc = SparkContext.getOrCreate()\n",
    "sqlContext = SQLContext(sc)"
   ]
  },
  {
   "cell_type": "code",
   "execution_count": 3,
   "metadata": {},
   "outputs": [],
   "source": [
    "df = pd.read_csv('/Users/anshul/ML/song_genre/lyrics.csv')"
   ]
  },
  {
   "cell_type": "code",
   "execution_count": 4,
   "metadata": {},
   "outputs": [
    {
     "data": {
      "text/plain": [
       "(362237, 6)"
      ]
     },
     "execution_count": 4,
     "metadata": {},
     "output_type": "execute_result"
    }
   ],
   "source": [
    "df.shape"
   ]
  },
  {
   "cell_type": "code",
   "execution_count": 5,
   "metadata": {},
   "outputs": [
    {
     "data": {
      "text/html": [
       "<div>\n",
       "<style scoped>\n",
       "    .dataframe tbody tr th:only-of-type {\n",
       "        vertical-align: middle;\n",
       "    }\n",
       "\n",
       "    .dataframe tbody tr th {\n",
       "        vertical-align: top;\n",
       "    }\n",
       "\n",
       "    .dataframe thead th {\n",
       "        text-align: right;\n",
       "    }\n",
       "</style>\n",
       "<table border=\"1\" class=\"dataframe\">\n",
       "  <thead>\n",
       "    <tr style=\"text-align: right;\">\n",
       "      <th></th>\n",
       "      <th>index</th>\n",
       "      <th>song</th>\n",
       "      <th>year</th>\n",
       "      <th>artist</th>\n",
       "      <th>genre</th>\n",
       "      <th>lyrics</th>\n",
       "    </tr>\n",
       "  </thead>\n",
       "  <tbody>\n",
       "    <tr>\n",
       "      <th>0</th>\n",
       "      <td>0</td>\n",
       "      <td>ego-remix</td>\n",
       "      <td>2009</td>\n",
       "      <td>beyonce-knowles</td>\n",
       "      <td>Pop</td>\n",
       "      <td>Oh baby, how you doing?\\nYou know I'm gonna cu...</td>\n",
       "    </tr>\n",
       "    <tr>\n",
       "      <th>1</th>\n",
       "      <td>1</td>\n",
       "      <td>then-tell-me</td>\n",
       "      <td>2009</td>\n",
       "      <td>beyonce-knowles</td>\n",
       "      <td>Pop</td>\n",
       "      <td>playin' everything so easy,\\nit's like you see...</td>\n",
       "    </tr>\n",
       "    <tr>\n",
       "      <th>2</th>\n",
       "      <td>2</td>\n",
       "      <td>honesty</td>\n",
       "      <td>2009</td>\n",
       "      <td>beyonce-knowles</td>\n",
       "      <td>Pop</td>\n",
       "      <td>If you search\\nFor tenderness\\nIt isn't hard t...</td>\n",
       "    </tr>\n",
       "    <tr>\n",
       "      <th>3</th>\n",
       "      <td>3</td>\n",
       "      <td>you-are-my-rock</td>\n",
       "      <td>2009</td>\n",
       "      <td>beyonce-knowles</td>\n",
       "      <td>Pop</td>\n",
       "      <td>Oh oh oh I, oh oh oh I\\n[Verse 1:]\\nIf I wrote...</td>\n",
       "    </tr>\n",
       "    <tr>\n",
       "      <th>4</th>\n",
       "      <td>4</td>\n",
       "      <td>black-culture</td>\n",
       "      <td>2009</td>\n",
       "      <td>beyonce-knowles</td>\n",
       "      <td>Pop</td>\n",
       "      <td>Party the people, the people the party it's po...</td>\n",
       "    </tr>\n",
       "  </tbody>\n",
       "</table>\n",
       "</div>"
      ],
      "text/plain": [
       "   index             song  year           artist genre  \\\n",
       "0      0        ego-remix  2009  beyonce-knowles   Pop   \n",
       "1      1     then-tell-me  2009  beyonce-knowles   Pop   \n",
       "2      2          honesty  2009  beyonce-knowles   Pop   \n",
       "3      3  you-are-my-rock  2009  beyonce-knowles   Pop   \n",
       "4      4    black-culture  2009  beyonce-knowles   Pop   \n",
       "\n",
       "                                              lyrics  \n",
       "0  Oh baby, how you doing?\\nYou know I'm gonna cu...  \n",
       "1  playin' everything so easy,\\nit's like you see...  \n",
       "2  If you search\\nFor tenderness\\nIt isn't hard t...  \n",
       "3  Oh oh oh I, oh oh oh I\\n[Verse 1:]\\nIf I wrote...  \n",
       "4  Party the people, the people the party it's po...  "
      ]
     },
     "execution_count": 5,
     "metadata": {},
     "output_type": "execute_result"
    }
   ],
   "source": [
    "df.head()"
   ]
  },
  {
   "cell_type": "code",
   "execution_count": 6,
   "metadata": {},
   "outputs": [],
   "source": [
    "df = df[pd.notnull(df['lyrics'])]\n",
    "df = df.drop(\"song\", axis=1)\n",
    "df = df.drop(\"year\", axis=1)\n",
    "df = df.drop(\"artist\", axis=1)\n",
    "df = df.drop(\"index\", axis=1)"
   ]
  },
  {
   "cell_type": "code",
   "execution_count": 7,
   "metadata": {},
   "outputs": [
    {
     "data": {
      "text/plain": [
       "(266557, 2)"
      ]
     },
     "execution_count": 7,
     "metadata": {},
     "output_type": "execute_result"
    }
   ],
   "source": [
    "df.shape"
   ]
  },
  {
   "cell_type": "code",
   "execution_count": 8,
   "metadata": {},
   "outputs": [],
   "source": [
    "df.index = range(266557)"
   ]
  },
  {
   "cell_type": "code",
   "execution_count": 9,
   "metadata": {},
   "outputs": [
    {
     "name": "stdout",
     "output_type": "stream",
     "text": [
      "0         Oh baby, how you doing?\\nYou know I'm gonna cu...\n",
      "1         playin' everything so easy,\\nit's like you see...\n",
      "2         If you search\\nFor tenderness\\nIt isn't hard t...\n",
      "3         Oh oh oh I, oh oh oh I\\n[Verse 1:]\\nIf I wrote...\n",
      "4         Party the people, the people the party it's po...\n",
      "5         I heard\\nChurch bells ringing\\nI heard\\nA choi...\n",
      "6         This is just another day that I would spend\\nW...\n",
      "7         Waiting, waiting, waiting, waiting\\nWaiting, w...\n",
      "8         [Verse 1:]\\nI read all of the magazines\\nwhile...\n",
      "9         N-n-now, honey\\nYou better sit down and look a...\n",
      "10        I lay alone awake at night\\nSorrow fills my ey...\n",
      "11        Hello hello baby you called\\nI can't hear a th...\n",
      "12        Feels like I'm losing my mind\\nLove is so hard...\n",
      "13        Youre everything I thought you never were\\nAnd...\n",
      "14        I gotta give up\\nto quite the storm that rages...\n",
      "15        It really hurts to say this yes it does\\nBut a...\n",
      "16        You're bad for me I clearly get it\\nI don't se...\n",
      "17        [Chorus:]\\nI'm a world wide woman WWW you can ...\n",
      "18        Ay\\nAy\\nAy (Nobody likes to be played)\\nOh, Be...\n",
      "19        Ay! Ay!\\n(Nobody likes being played)\\nAy!\\nOh!...\n",
      "20        Ay! Ay!\\n(Nobody likes being played)\\nAy!\\nOh!...\n",
      "21        Beyonc - Intro:\\nBeyonce\\nIAM\\nWelcome\\nWelcom...\n",
      "22        Ay! Ay!\\n(Nobody likes being played)\\nAy!\\nOh!...\n",
      "23        Took me a while but I'm finally here\\nSo I jus...\n",
      "24        Ay! Ay! Ay!\\nOh! Beyonc, Beyonc\\nOh! Beyonc, B...\n",
      "25        To the left, to the left\\nTo the left, to the ...\n",
      "26        Remember the first day when I saw your face\\nr...\n",
      "27        you say that he's wrong\\nyou say that he's no ...\n",
      "28        1st verse:\\nhey you what's the deal, its poppi...\n",
      "29        He is always laughin' and flirting with me\\nAn...\n",
      "                                ...                        \n",
      "266527    Hurricane spitting tornado\\nGrowl over London ...\n",
      "266528    I summon the voice of distance stars\\nSaturn s...\n",
      "266529    Lord I have sight according to thy choice\\nmy ...\n",
      "266530    Hurricane spitting tornado\\nGrowl over London ...\n",
      "266531                                         INSTRUMENTAL\n",
      "266532    Pull the apple carts\\nUp from silvery hill\\nHi...\n",
      "266533    Waking up\\nIt's been too long\\nFeel the warmth...\n",
      "266534    More than you know\\nMore than you know\\nWhen t...\n",
      "266535    Arrhythmia\\nAccepting that you live with uncer...\n",
      "266536    Injili, Injili\\nCan I sing with you\\n'Bout Mr....\n",
      "266537    We are everyday robots on our phones\\nIn the p...\n",
      "266538    When your soul isn't right\\nAnd it's raw to th...\n",
      "266539    When the photographs you're taking now\\nAre ta...\n",
      "266540    I met Moko jumbie,\\nHe walks on stilts through...\n",
      "266541    Chill on the hollow ponds\\nSet sail by a kid\\n...\n",
      "266542    Celebrate the passing drugs\\nPut them on the b...\n",
      "266543    When the serve is done\\nAnd the parish shuffle...\n",
      "266544                   Trilo!\\nHÃ¤r Ã¤r han.\\nNÃ¤ra land.\n",
      "266545    Days getting dark and the nights are growing c...\n",
      "266546    You'll never know my name\\nAnd my pictures wil...\n",
      "266547    You walked in shining brighter than a headligh...\n",
      "266548    I warned you that the tank was low\\nShoulda st...\n",
      "266549    To my first pony, Cherry Pie\\nFrom the little ...\n",
      "266550    It was two years ago and it was yesterday\\nIt ...\n",
      "266551    You've got your Texas way of walking,\\nYou've ...\n",
      "266552    I gotta say\\nBoy, after only just a couple of ...\n",
      "266553    I helped you find her diamond ring\\nYou made m...\n",
      "266554    Look at the couple in the corner booth\\nLooks ...\n",
      "266555    When I fly off this mortal earth\\nAnd I'm meas...\n",
      "266556    I heard from a friend of a friend of a friend ...\n",
      "Name: lyrics, Length: 266557, dtype: object\n"
     ]
    }
   ],
   "source": [
    "print(df['lyrics'])"
   ]
  },
  {
   "cell_type": "code",
   "execution_count": 10,
   "metadata": {},
   "outputs": [
    {
     "data": {
      "image/png": "[encoded data removed]",
      "text/plain": [
       "<Figure size 864x288 with 1 Axes>"
      ]
     },
     "metadata": {
      "needs_background": "light"
     },
     "output_type": "display_data"
    }
   ],
   "source": [
    "cnt_pro = df['genre'].value_counts()\n",
    "plt.figure(figsize=(12,4))\n",
    "sns.barplot(cnt_pro.index, cnt_pro.values, alpha=0.8)\n",
    "plt.ylabel('Number of Occurrences', fontsize=12)\n",
    "plt.xlabel('genre', fontsize=12)\n",
    "plt.xticks(rotation=90)\n",
    "plt.show();"
   ]
  },
  {
   "cell_type": "code",
   "execution_count": 11,
   "metadata": {},
   "outputs": [],
   "source": [
    "#genre = y.value_counts()"
   ]
  },
  {
   "cell_type": "code",
   "execution_count": 12,
   "metadata": {},
   "outputs": [],
   "source": [
    "#print (genre)"
   ]
  },
  {
   "cell_type": "code",
   "execution_count": 13,
   "metadata": {},
   "outputs": [],
   "source": [
    "#plt.figure(figsize=(12,4))\n",
    "#sns.barplot(genre.index, genre.values, alpha=0.8)"
   ]
  },
  {
   "cell_type": "code",
   "execution_count": 14,
   "metadata": {},
   "outputs": [],
   "source": [
    "#plt.ylabel('Number of Occurrences', fontsize=12)"
   ]
  },
  {
   "cell_type": "code",
   "execution_count": 15,
   "metadata": {},
   "outputs": [],
   "source": [
    "#plt.xlabel('Genre', fontsize=12)"
   ]
  },
  {
   "cell_type": "code",
   "execution_count": 16,
   "metadata": {},
   "outputs": [],
   "source": [
    "#plt.show()"
   ]
  },
  {
   "cell_type": "code",
   "execution_count": 17,
   "metadata": {},
   "outputs": [
    {
     "name": "stdout",
     "output_type": "stream",
     "text": [
      "0         Oh baby, how you doing?\\nYou know I'm gonna cu...\n",
      "1         playin' everything so easy,\\nit's like you see...\n",
      "2         If you search\\nFor tenderness\\nIt isn't hard t...\n",
      "3         Oh oh oh I, oh oh oh I\\n[Verse 1:]\\nIf I wrote...\n",
      "4         Party the people, the people the party it's po...\n",
      "5         I heard\\nChurch bells ringing\\nI heard\\nA choi...\n",
      "6         This is just another day that I would spend\\nW...\n",
      "7         Waiting, waiting, waiting, waiting\\nWaiting, w...\n",
      "8         [Verse 1:]\\nI read all of the magazines\\nwhile...\n",
      "9         N-n-now, honey\\nYou better sit down and look a...\n",
      "10        I lay alone awake at night\\nSorrow fills my ey...\n",
      "11        Hello hello baby you called\\nI can't hear a th...\n",
      "12        Feels like I'm losing my mind\\nLove is so hard...\n",
      "13        Youre everything I thought you never were\\nAnd...\n",
      "14        I gotta give up\\nto quite the storm that rages...\n",
      "15        It really hurts to say this yes it does\\nBut a...\n",
      "16        You're bad for me I clearly get it\\nI don't se...\n",
      "17        [Chorus:]\\nI'm a world wide woman WWW you can ...\n",
      "18        Ay\\nAy\\nAy (Nobody likes to be played)\\nOh, Be...\n",
      "19        Ay! Ay!\\n(Nobody likes being played)\\nAy!\\nOh!...\n",
      "20        Ay! Ay!\\n(Nobody likes being played)\\nAy!\\nOh!...\n",
      "21        Beyonc - Intro:\\nBeyonce\\nIAM\\nWelcome\\nWelcom...\n",
      "22        Ay! Ay!\\n(Nobody likes being played)\\nAy!\\nOh!...\n",
      "23        Took me a while but I'm finally here\\nSo I jus...\n",
      "24        Ay! Ay! Ay!\\nOh! Beyonc, Beyonc\\nOh! Beyonc, B...\n",
      "25        To the left, to the left\\nTo the left, to the ...\n",
      "26        Remember the first day when I saw your face\\nr...\n",
      "27        you say that he's wrong\\nyou say that he's no ...\n",
      "28        1st verse:\\nhey you what's the deal, its poppi...\n",
      "29        He is always laughin' and flirting with me\\nAn...\n",
      "                                ...                        \n",
      "266527    Hurricane spitting tornado\\nGrowl over London ...\n",
      "266528    I summon the voice of distance stars\\nSaturn s...\n",
      "266529    Lord I have sight according to thy choice\\nmy ...\n",
      "266530    Hurricane spitting tornado\\nGrowl over London ...\n",
      "266531                                         INSTRUMENTAL\n",
      "266532    Pull the apple carts\\nUp from silvery hill\\nHi...\n",
      "266533    Waking up\\nIt's been too long\\nFeel the warmth...\n",
      "266534    More than you know\\nMore than you know\\nWhen t...\n",
      "266535    Arrhythmia\\nAccepting that you live with uncer...\n",
      "266536    Injili, Injili\\nCan I sing with you\\n'Bout Mr....\n",
      "266537    We are everyday robots on our phones\\nIn the p...\n",
      "266538    When your soul isn't right\\nAnd it's raw to th...\n",
      "266539    When the photographs you're taking now\\nAre ta...\n",
      "266540    I met Moko jumbie,\\nHe walks on stilts through...\n",
      "266541    Chill on the hollow ponds\\nSet sail by a kid\\n...\n",
      "266542    Celebrate the passing drugs\\nPut them on the b...\n",
      "266543    When the serve is done\\nAnd the parish shuffle...\n",
      "266544                   Trilo!\\nHÃ¤r Ã¤r han.\\nNÃ¤ra land.\n",
      "266545    Days getting dark and the nights are growing c...\n",
      "266546    You'll never know my name\\nAnd my pictures wil...\n",
      "266547    You walked in shining brighter than a headligh...\n",
      "266548    I warned you that the tank was low\\nShoulda st...\n",
      "266549    To my first pony, Cherry Pie\\nFrom the little ...\n",
      "266550    It was two years ago and it was yesterday\\nIt ...\n",
      "266551    You've got your Texas way of walking,\\nYou've ...\n",
      "266552    I gotta say\\nBoy, after only just a couple of ...\n",
      "266553    I helped you find her diamond ring\\nYou made m...\n",
      "266554    Look at the couple in the corner booth\\nLooks ...\n",
      "266555    When I fly off this mortal earth\\nAnd I'm meas...\n",
      "266556    I heard from a friend of a friend of a friend ...\n",
      "Name: lyrics, Length: 266557, dtype: object\n"
     ]
    }
   ],
   "source": [
    "print (df['lyrics'])"
   ]
  },
  {
   "cell_type": "code",
   "execution_count": 18,
   "metadata": {},
   "outputs": [],
   "source": [
    "def cleanText(text):\n",
    "    text = re.sub(r'\\|\\|\\|', r' ', text) \n",
    "    text = re.sub(r'http\\S+', r'<URL>', text)\n",
    "    text = text.lower()\n",
    "    text = text.replace('x', '')\n",
    "    text = text.replace('\\n', ' ')\n",
    "    return text\n",
    "df['lyrics'] = df['lyrics'].apply(cleanText)"
   ]
  },
  {
   "cell_type": "code",
   "execution_count": 19,
   "metadata": {},
   "outputs": [
    {
     "name": "stdout",
     "output_type": "stream",
     "text": [
      "0         oh baby, how you doing? you know i'm gonna cut...\n",
      "1         playin' everything so easy, it's like you seem...\n",
      "2         if you search for tenderness it isn't hard to ...\n",
      "3         oh oh oh i, oh oh oh i [verse 1:] if i wrote a...\n",
      "4         party the people, the people the party it's po...\n",
      "5         i heard church bells ringing i heard a choir s...\n",
      "6         this is just another day that i would spend wa...\n",
      "7         waiting, waiting, waiting, waiting waiting, wa...\n",
      "8         [verse 1:] i read all of the magazines while w...\n",
      "9         n-n-now, honey you better sit down and look ar...\n",
      "10        i lay alone awake at night sorrow fills my eye...\n",
      "11        hello hello baby you called i can't hear a thi...\n",
      "12        feels like i'm losing my mind love is so hard ...\n",
      "13        youre everything i thought you never were and ...\n",
      "14        i gotta give up to quite the storm that rages ...\n",
      "15        it really hurts to say this yes it does but af...\n",
      "16        you're bad for me i clearly get it i don't see...\n",
      "17        [chorus:] i'm a world wide woman www you can l...\n",
      "18        ay ay ay (nobody likes to be played) oh, beyon...\n",
      "19        ay! ay! (nobody likes being played) ay! oh! be...\n",
      "20        ay! ay! (nobody likes being played) ay! oh! be...\n",
      "21        beyonc - intro: beyonce iam welcome welcome he...\n",
      "22        ay! ay! (nobody likes being played) ay! oh! be...\n",
      "23        took me a while but i'm finally here so i just...\n",
      "24        ay! ay! ay! oh! beyonc, beyonc oh! beyonc, bey...\n",
      "25        to the left, to the left to the left, to the l...\n",
      "26        remember the first day when i saw your face re...\n",
      "27        you say that he's wrong you say that he's no g...\n",
      "28        1st verse: hey you what's the deal, its poppin...\n",
      "29        he is always laughin' and flirting with me and...\n",
      "                                ...                        \n",
      "266527    hurricane spitting tornado growl over london t...\n",
      "266528    i summon the voice of distance stars saturn sp...\n",
      "266529    lord i have sight according to thy choice my l...\n",
      "266530    hurricane spitting tornado growl over london t...\n",
      "266531                                         instrumental\n",
      "266532    pull the apple carts up from silvery hill high...\n",
      "266533    waking up it's been too long feel the warmth o...\n",
      "266534    more than you know more than you know when the...\n",
      "266535    arrhythmia accepting that you live with uncert...\n",
      "266536    injili, injili can i sing with you 'bout mr. t...\n",
      "266537    we are everyday robots on our phones in the pr...\n",
      "266538    when your soul isn't right and it's raw to the...\n",
      "266539    when the photographs you're taking now are tak...\n",
      "266540    i met moko jumbie, he walks on stilts through ...\n",
      "266541    chill on the hollow ponds set sail by a kid in...\n",
      "266542    celebrate the passing drugs put them on the ba...\n",
      "266543    when the serve is done and the parish shuffled...\n",
      "266544                     trilo! hã¤r ã¤r han. nã¤ra land.\n",
      "266545    days getting dark and the nights are growing c...\n",
      "266546    you'll never know my name and my pictures will...\n",
      "266547    you walked in shining brighter than a headligh...\n",
      "266548    i warned you that the tank was low shoulda sto...\n",
      "266549    to my first pony, cherry pie from the little g...\n",
      "266550    it was two years ago and it was yesterday it m...\n",
      "266551    you've got your teas way of walking, you've go...\n",
      "266552    i gotta say boy, after only just a couple of d...\n",
      "266553    i helped you find her diamond ring you made me...\n",
      "266554    look at the couple in the corner booth looks a...\n",
      "266555    when i fly off this mortal earth and i'm measu...\n",
      "266556    i heard from a friend of a friend of a friend ...\n",
      "Name: lyrics, Length: 266557, dtype: object\n"
     ]
    }
   ],
   "source": [
    "print(df['lyrics'])"
   ]
  },
  {
   "cell_type": "code",
   "execution_count": 20,
   "metadata": {},
   "outputs": [],
   "source": [
    "train, test = train_test_split(df, test_size=0.3, random_state=42)"
   ]
  },
  {
   "cell_type": "code",
   "execution_count": 21,
   "metadata": {},
   "outputs": [],
   "source": [
    "train.head()\n",
    "def tokenize_text(text):\n",
    "    tokens = []\n",
    "    for sent in nltk.sent_tokenize(text):\n",
    "        for word in nltk.word_tokenize(sent):\n",
    "            if len(word) < 2:\n",
    "                continue\n",
    "            tokens.append(word.lower())\n",
    "    return tokens\n",
    "train_tagged = train.apply(\n",
    "    lambda r: TaggedDocument(words=tokenize_text(r['lyrics']), tags=[r.genre]), axis=1)\n",
    "test_tagged = test.apply(\n",
    "    lambda r: TaggedDocument(words=tokenize_text(r['lyrics']), tags=[r.genre]), axis=1)"
   ]
  },
  {
   "cell_type": "code",
   "execution_count": 22,
   "metadata": {},
   "outputs": [
    {
     "data": {
      "text/plain": [
       "TaggedDocument(words=['oh', 'baby', 'how', 'you', 'doing', 'you', 'know', \"'m\", 'gon', 'na', 'cut', 'right', 'to', 'the', 'chase', 'some', 'women', 'were', 'made', 'but', 'me', 'myself', 'like', 'to', 'think', 'that', 'was', 'created', 'for', 'special', 'purpose', 'you', 'know', 'what', \"'s\", 'more', 'special', 'than', 'you', 'you', 'feel', 'me', 'it', \"'s\", 'on', 'baby', 'let', \"'s\", 'get', 'lost', 'you', 'do', \"n't\", 'need', 'to', 'call', 'into', 'work', \"'cause\", 'you', \"'re\", 'the', 'boss', 'for', 'real', 'want', 'you', 'to', 'show', 'me', 'how', 'you', 'feel', 'consider', 'myself', 'lucky', 'that', \"'s\", 'big', 'deal', 'why', 'well', 'you', 'got', 'the', 'key', 'to', 'my', 'heart', 'but', 'you', 'ai', \"n't\", 'gon', 'na', 'need', 'it', \"'d\", 'rather', 'you', 'open', 'up', 'my', 'body', 'and', 'show', 'me', 'secrets', 'you', 'did', \"n't\", 'know', 'was', 'inside', 'no', 'need', 'for', 'me', 'to', 'lie', 'it', \"'s\", 'too', 'big', 'it', \"'s\", 'too', 'wide', 'it', \"'s\", 'too', 'strong', 'it', 'wo', \"n't\", 'fit', 'it', \"'s\", 'too', 'much', 'it', \"'s\", 'too', 'tough', 'he', 'talk', 'like', 'this', \"'cause\", 'he', 'can', 'back', 'it', 'up', 'he', 'got', 'big', 'ego', 'such', 'huge', 'ego', 'love', 'his', 'big', 'ego', 'it', \"'s\", 'too', 'much', 'he', 'walk', 'like', 'this', \"'cause\", 'he', 'can', 'back', 'it', 'up', 'usually', \"'m\", 'humble', 'right', 'now', 'do', \"n't\", 'choose', 'you', 'can', 'leave', 'with', 'me', 'or', 'you', 'could', 'have', 'the', 'blues', 'some', 'call', 'it', 'arrogant', 'call', 'it', 'confident', 'you', 'decide', 'when', 'you', 'find', 'on', 'what', \"'m\", 'working', 'with', 'damn', 'know', \"'m\", 'killing', 'you', 'with', 'them', 'legs', 'better', 'yet', 'them', 'thighs', 'matter', 'fact', 'it', \"'s\", 'my', 'smile', 'or', 'maybe', 'my', 'eyes', 'boy', 'you', 'site', 'to', 'see', 'kind', 'of', 'something', 'like', 'me', 'it', \"'s\", 'too', 'big', 'it', \"'s\", 'too', 'wide', 'it', \"'s\", 'too', 'strong', 'it', 'wo', \"n't\", 'fit', 'it', \"'s\", 'too', 'much', 'it', \"'s\", 'too', 'tough', 'talk', 'like', 'this', \"'cause\", 'can', 'back', 'it', 'up', 'got', 'big', 'ego', 'such', 'huge', 'ego', 'but', 'he', 'love', 'my', 'big', 'ego', 'it', \"'s\", 'too', 'much', 'walk', 'like', 'this', \"'cause\", 'can', 'back', 'it', 'up', 'walk', 'like', 'this', \"'cause\", 'can', 'back', 'it', 'up', 'talk', 'like', 'this', \"'cause\", 'can', 'back', 'it', 'up', 'can', 'back', 'it', 'up', 'can', 'back', 'it', 'up', 'walk', 'like', 'this', \"'cause\", 'can', 'back', 'it', 'up', 'it', \"'s\", 'too', 'big', 'it', \"'s\", 'too', 'wide', 'it', \"'s\", 'too', 'strong', 'it', 'wo', \"n't\", 'fit', 'it', \"'s\", 'too', 'much', 'it', \"'s\", 'too', 'tough', 'he', 'talk', 'like', 'this', \"'cause\", 'he', 'can', 'back', 'it', 'up', 'he', 'got', 'big', 'ego', 'such', 'huge', 'ego', 'such', 'huge', 'ego', 'love', 'his', 'big', 'ego', 'it', \"'s\", 'too', 'much', 'he', 'walk', 'like', 'this', \"'cause\", 'he', 'can', 'back', 'it', 'up', 'ego', 'so', 'big', 'you', 'must', 'admit', 'got', 'every', 'reason', 'to', 'feel', 'like', \"'m\", 'that', 'bitch', 'ego', 'so', 'strong', 'if', 'you', 'ai', \"n't\", 'know', 'do', \"n't\", 'need', 'no', 'beat', 'can', 'sing', 'it', 'with', 'piano'], tags=['Pop'])"
      ]
     },
     "execution_count": 22,
     "metadata": {},
     "output_type": "execute_result"
    }
   ],
   "source": [
    "train_tagged[0]"
   ]
  },
  {
   "cell_type": "code",
   "execution_count": 23,
   "metadata": {},
   "outputs": [],
   "source": [
    "cores = multiprocessing.cpu_count()"
   ]
  },
  {
   "cell_type": "code",
   "execution_count": 24,
   "metadata": {},
   "outputs": [
    {
     "name": "stdout",
     "output_type": "stream",
     "text": [
      "4\n"
     ]
    }
   ],
   "source": [
    "print(cores)"
   ]
  },
  {
   "cell_type": "code",
   "execution_count": 25,
   "metadata": {},
   "outputs": [
    {
     "data": {
      "text/plain": [
       "array([TaggedDocument(words=['was', \"n't\", 'having', 'it', 'all', 'that', 'day', 'having', 'thought', 'was', 'there', 'is', 'fine', 'do', \"n't\", 'know', 'what', 'can', 'be', 'hard', 'to', 'say', 'oh', 'that', \"'s\", 'sign', 'of', 'better', 'time', 'you', 'know', 'now', 'the', 'hours', 'that', 'go', 'in', 'front', 'of', 'me', 'remind', 'it', 'how', 'it', 'used', 'to', 'be', 'and', 'you', 'down', 'in', 'the', 'grass', 'with', 'me', 'the', 'hours', 'of', 'choking', 'century', 'blame', 'you', 'thank', 'you', 'blame', 'you', 'was', \"n't\", 'fit', 'to', 'have', 'you', 'but', 'will', 'never', 'run', 'and', 'hide', \"'ll\", 'feel', 'so', 'bad', 'and', 'then', 'will', 'not', 'apologize', 'am', 'fit', 'to', 'hang', 'and', 'in', 'the', 'falling', 'rain', 'and', 'meant', 'to', 'make', 'it', 'out', 'tonight', 'the', 'hours', 'that', 'go', 'in', 'front', 'of', 'me', 'remind', 'it', 'how', 'it', 'used', 'be', 'and', 'you', 'down', 'in', 'the', 'grass', 'with', 'me', 'the', 'hours', 'of', 'choking', 'century', 'blame', 'you', 'thank', 'you', 'blame', 'you', 'thank', 'you', 'yeah', 'you', 'come', 'to', 'mind', 'yeah', 'you', 'come', 'to', 'mind', 'yeah', 'you', 'come', 'to', 'mind', 'yeah', 'you', 'come', 'to', 'mind', 'yeah', 'you', 'come', 'to', 'mind', 'yeah', 'you', 'come', 'to', 'mind', 'yeah', 'you', 'come', 'to', 'mind', 'yeah', 'you', 'come', 'to', 'mind'], tags=['Rock']),\n",
       "       TaggedDocument(words=['this', 'guy', 'is', 'crazy', 'this', 'guy', 'is', 'weirdo', 'outsidaz', 'what', 'you', 'wan', 'na', 'do', 'this', 'is', 'the', 'gang', 'im', 'in', 'outsidaz', 'comin', 'to', 'you', 'lord', 'have', 'mercy', 'for', 'any', 'rapper', 'that', 'showed', 'up', 'first', 'it', 'was', 'oklahoma', 'now', 'its', 'your', 'house', 'im', 'blowin', 'up', \"'cause\", 'im', 'quick', 'to', 'butt', 'fuck', 'yo', 'moms', 'and', 'fuck', 'nine', 'bizarre', \"'s\", 'shootin', 'nuclear', 'bombs', 'think', 'about', 'it', 'before', 'you', 'diss', 'me', 'on', 'track', 'hang', 'with', 'niggas', 'that', 'just', 'got', 'out', 'and', 'ready', 'to', 'go', 'back', 'bizarre', 'making', 'wack', 'crews', 'fold', 'me', 'and', 'bill', 'clinton', 'wan', 'na', 'bust', 'in', 'hoes', 'that', 'only', '14', 'years', 'old', 'shes', 'young', 'doin', 'drive', 'by', \"'s\", 'in', 'fuckin', 'pink', 'caddies', 'tie', 'you', 'up', 'and', 'beat', 'you', 'worse', 'the', 'cool', \"'s\", 'daddy', 'this', 'is', 'crime', 'that', 'even', 'mc', 'gruff', 'couldnt', 'solve', 'chew', 'dog', 'and', 'its', 'not', 'you', 'niggas', 'is', 'what', 'leavin', 'in', '__', 'you', 'don', 'fucked', 'around', 'and', 'got', 'ta', 'get', 'fi', 'ya', \"'ll\", 'niggas', 'in', 'trouble', \"'cause\", 'done', 'fucked', 'around', 'and', 'hit', 'si', 'who', 'the', 'fuck', 'is', 'ya', \"'ll\", 'wack', 'niggas', 'ignoring', 'put', 'me', 'in', 'room', 'full', 'of', 'murderers', 'they', 'be', 'dead', 'by', 'the', 'mornin', 'rap', 'guys', 'liten', 'to', 'me', 'listen', 'to', 'me', 'rap', 'guys', 'diss', 'bizarre', 'you', 'die', 'we', 'can', 'do', 'this', 'like', 'men', 'or', 'talk', 'it', 'out', 'real', 'right', 'or', 'do', 'it', 'my', 'way', 'and', 'drive', 'by', 'later', 'on', 'tonite', 'break', 'in', 'your', 'house', 'hang', 'your', 'sister', 'by', 'her', 'shirt', 'bury', 'her', 'in', 'the', 'dirt', 'wait', 'for', 'you', 'moms', 'to', 'get', 'home', 'from', 'work', 'id', 'killed', 'so', 'many', 'm.c', \"'s\", 'cant', 'count', 'the', 'number', 'niggas', 'writin', 'me', 'letters', 'say', '``', 'know', 'what', 'you', 'did', 'last', 'summer', \"''\", 'one', 'rapper', 'tested', 'me', 'and', 'though', 'was', 'punk', 'and', 'aint', 'seen', 'his', 'body', 'since', 'threw', 'it', 'out', 'of', 'my', 'trunk', 'fuck', 'around', 'and', 'throw', 'your', 'ass', 'in', 'the', 'lake', 'and', 'never', 'be', 'found', 'like', 'my', 'high', 'school', 'prom', 'date', 'bizarre', 'stick', 'ill', 'shoot', 'vein', 'in', 'my', 'fathers', 'vein', 'and', 'watch', 'nigga', 'die', 'like', 'sugar', 'hill', \"'m\", 'sicker', 'the', 'transvestite', 'gettin', 'fucked', 'by', 'paraplegic', 'say', 'dumb', 'shit', 'when', 'im', 'weeded', 'your', 'girl', 'sucked', 'me', 'bitch', 'you', 'better', 'duck', 'me', 'or', 'fuck', 'around', 'end', 'up', 'room', 'mates', 'with', 'mike', 'hutley', 'rap', 'guys', 'liten', 'to', 'me', 'listen', 'to', 'me', 'rap', 'guys', 'diss', 'bizarre', 'you', 'die', 'be', 'watchin', 'shows', 'from', 'here', 'to', 'chi', 'town', 'tell', 'your', 'boys', 'this', 'his', 'last', 'day', 'im', 'shuttin', 'this', 'block', 'down', 'im', 'the', 'type', 'guy', 'come', 'to', 'your', 'stage', 'show', 'and', 'boo', 'you', 'tell', 'you', 'you', 'can', 'use', 'my', 'sample', 'and', 'two', 'weeks', 'later', \"'ll\", 'screw', 'you', 'diss', 'me', 'on', 'your', 'stage', 'show', 'diss', 'my', 'while', 'you', 'high', 'but', 'aint', 'no', 'garauntee', 'youll', 'make', 'it', 'out', 'this', 'bitch', 'fuckin', 'alive', 'got', 'weed', 'and', 'drinks', 'and', 'some', 'fuckin', 'slut', 'fuck', 'her', 'in', 'the', 'butt', 'burn', 'her', 'back', 'with', 'hot', 'cigarette', 'butts', 'quick', 'to', 'throw', 'the', 'fuckin', 'nine', 'up', 'my', 'crew', 'gets', 'more', 'dirty', 'looks', 'then', 'queen', 'latifa', 'in', 'police', 'line', 'up', 'dont', 'wind', 'up', 'like', 'your', 'boy', 'name', 'romer', 'have', 'your', 'parents', 'wondering', 'when', 'your', 'ass', 'is', 'comin', 'out', 'this', 'coma', 'smell', 'the', 'aroma', 'when', 'my', 'crew', 'hits', 'the', 'stage', 'somebody', 'stop', 'this', 'machine', 'in', 'rage', 'fuck', 'your', 'girl', 'disrespect', 'her', 'then', 'teck', 'her', 'bizarre', '98', 'bitch', 'federation', 'records', 'rap', 'guys', 'liten', 'to', 'me', 'listen', 'to', 'me', 'rap', 'guys', 'diss', 'bizarre', 'you', 'die'], tags=['Hip-Hop']),\n",
       "       TaggedDocument(words=['aggressive', 'energy', 'adrenaline', 'a.e.a', 'we', 'bring', 'pure', 'and', 'new', 'power', 'a.e.a', 'it', \"'s\", 'not', 'fake', 'this', 'is', 'fire', 'a.e.a', 'with', 'this', 'music', 'in', 'our', 'blood', 'a.e.a', 'we', 'will', 'break', 'down', 'the', 'walls', 'a.e.a', 'no', 'black', 'and', 'no', 'white', 'a.e.a', 'this', 'is', 'an', 'united', 'fight', 'a.e.a', 'it', \"'s\", 'on', 'the', 'ground', 'and', 'in', 'the', 'sky', 'a.e.a', 'positive', 'message', 'for', 'your', 'mind', 'a.e.a', 'we', 'do', \"n't\", 'need', 'the', 'wannabes', 'a.e.a', 'we', 'destroy', 'the', 'enemies', 'a.e.a', 'with', 'faith', 'in', 'our', 'heart', 'believe', 'together', 'a.e.a', 'ektomorf', 'forever', 'this', 'is', 'our', 'way', 'they', 'can', 'not', 'take', 'it', 'away', 'this', 'is', 'our', 'way', 'you', 'can', 'not', 'take', 'it', 'away', 'this', 'is', 'our', 'way', 'no', 'one', 'can', 'take', 'it', 'away'], tags=['Metal']),\n",
       "       ...,\n",
       "       TaggedDocument(words=['it', \"'s\", 'small', 'world', 'it', \"'s\", 'small', 'world', 'it', \"'s\", 'small', 'world', 'it', \"'s\", 'small', 'world', 'it', \"'s\", 'world', 'of', 'laughter', 'world', 'of', 'tears', 'it', \"'s\", 'world', 'of', 'hope', 'and', 'world', 'of', 'fears', 'there', \"'s\", 'so', 'much', 'that', 'we', 'share', 'that', 'it', \"'s\", 'time', 'we', \"'re\", 'aware', 'it', \"'s\", 'small', 'world', 'after', 'all', 'it', \"'s\", 'small', 'world', 'after', 'all', 'it', \"'s\", 'small', 'world', 'after', 'all', 'it', \"'s\", 'small', 'world', 'after', 'all', 'it', \"'s\", 'small', 'small', 'small', 'small', 'world', 'there', 'is', 'just', 'one', 'moon', 'and', 'one', 'golden', 'sun', 'and', 'smile', 'means', 'friendship', 'to', 'everyone', 'though', 'the', 'mountains', 'be', 'wide', 'and', 'the', 'oceans', 'are', 'wide', 'it', \"'s\", 'small', 'world', 'after', 'all', 'it', \"'s\", 'small', 'world', 'after', 'all', 'it', \"'s\", 'small', 'world', 'after', 'all', 'it', \"'s\", 'small', 'world', 'after', 'all', 'it', \"'s\", 'small', 'small', 'world', 'it', \"'s\", 'small', 'world', 'after', 'all', 'no', 'matter', 'if', 'you', \"'re\", 'big', 'or', 'small', 'come', 'on', 'everybody', 'let', \"'s\", 'bounce', 'to', 'this', 'let', \"'s\", 'play', 'some', 'love', 'with', 'little', 'twist', 'it', \"'s\", 'small', 'world', 'it', \"'s\", 'small', 'world', 'it', \"'s\", 'world', 'of', 'laughter', 'world', 'of', 'tears', 'it', \"'s\", 'world', 'of', 'hope', 'and', 'world', 'of', 'fears', 'there', \"'s\", 'so', 'much', 'that', 'we', 'share', 'that', 'it', \"'s\", 'time', 'we', \"'re\", 'aware', 'it', \"'s\", 'small', 'world', 'after', 'all', 'it', \"'s\", 'small', 'world', 'it', \"'s\", 'small', 'world', 'after', 'all', 'after', 'all', 'everybody', 'now', 'it', \"'s\", 'small', 'world', 'after', 'all', 'after', 'all', 'can', 'you', 'hear', 'me', 'now', 'it', \"'s\", 'small', 'world', 'after', 'all', 'come', 'on', 'come', 'on', 'it', \"'s\", 'small', 'small', 'small', 'small', 'world', 'it', \"'s\", 'small', 'world', 'after', 'all', 'after', 'all', 'everybody', 'now', 'it', \"'s\", 'small', 'world', 'after', 'all', 'after', 'all', 'it', \"'s\", 'small', 'world', 'after', 'all', 'it', \"'s\", 'small', 'small', 'small', 'small', 'world', 'it', \"'s\", 'small', 'world', 'after', 'all', 'it', \"'s\", 'small', 'world', 'after', 'all', 'it', \"'s\", 'small', 'world', 'after', 'all', 'it', \"'s\", 'small', 'small', 'small', 'small', 'world', 'it', \"'s\", 'small', 'world', 'after', 'all', 'it', \"'s\", 'small', 'world', 'after', 'all', 'it', \"'s\", 'small', 'world', 'after', 'all', 'it', \"'s\", 'small', 'small', 'small', 'small', 'world'], tags=['Pop']),\n",
       "       TaggedDocument(words=['jennys', 'got', 'herself', 'another', 'broken', 'heart', 'she', 'tries', 'to', 'keep', 'it', 'together', 'but', 'it', 'always', 'comes', 'apart', 'she', 'wears', 'all', 'the', 'hurt', 'ahe', 'wears', 'it', 'like', 'charm', 'and', 'she', 'doesnt', 'sleep', 'at', 'night', 'she', 'lies', 'awake', 'all', 'night', 'in', 'the', 'dark', 'with', 'every', 'waking', 'moment', 'with', 'every', 'breath', 'that', 'she', 'fights', 'to', 'take', 'there', 'is', 'just', 'one', 'more', 'hopeless', 'thought', 'that', 'shes', 'goes', 'on', 'to', 'contimplate', 'jennys', 'got', 'herself', 'another', 'game', 'to', 'play', 'she', 'got', 'reasons', 'oh', 'way', 'too', 'many', 'to', 'name', 'shes', 'gon', 'na', 'cut', 'to', 'the', 'chase', 'let', 'the', 'chips', 'fall', 'where', 'they', 'may', 'shes', 'going', 'to', 'pull', 'out', 'the', 'pin', 'and', 'watch', 'it', 'drop', 'from', 'this', 'hand', 'grenade', 'with', 'every', 'waking', 'moment', 'when', 'all', 'the', 'walls', 'just', 'cave', 'on', 'in', 'any', 'lights', 'that', 'used', 'to', 'shine', 'no', 'longer', 'finds', 'its', 'way', 'on', 'in', 'with', 'every', 'waking', 'moment', 'shes', 'crawling', 'right', 'out', 'from', 'under', 'her', 'skin', 'all', 'strung', 'out', 'and', 'wired', 'up', 'ready', 'for', 'the', 'big', 'show', 'to', 'begin', 'shes', 'got', 'million', 'reasons', 'now', 'and', 'the', 'darkness', 'is', 'calling', 'her', 'out', 'and', 'she', 'cant', 'figure', 'it', 'out', 'its', 'one', 'way', 'ticket', 'down'], tags=['Rock']),\n",
       "       TaggedDocument(words=['am', 'little', 'beggar', 'and', 'beggar', 'have', 'been', 'for', 'three', 'score', 'more', 'in', 'this', 'little', 'isle', 'of', 'green', 'and', \"'m\", 'known', 'from', 'the', 'liffy', 'down', 'to', 'segue', 'and', \"'m\", 'known', 'by', 'the', 'name', 'of', 'bold', 'donahue', 'of', 'all', 'the', 'trades', 'a-goin', 'now', 'sure', 'beggin', 'is', 'the', 'best', 'when', 'man', 'gets', 'tired', 'he', 'can', 'lay', 'him', 'down', 'to', 'rest', 'he', 'can', 'beg', 'for', 'his', 'dinner', 'when', 'there', \"'s\", 'nothing', 'left', 'to', 'do', 'then', 'just', 'cut', 'around', 'the', 'corner', 'with', 'his', 'old', 'rigadoo', 'slept', 'in', 'barn', 'way', 'down', 'in', 'curabawn', 'a-waitin', 'in', 'for', 'the', 'mornin', 'slept', 'till', 'the', 'dawn', 'with', 'the', 'holes', 'in', 'the', 'roof', 'and', 'the', 'rain', 'a-comin', 'through', 'and', 'the', 'cats', 'and', 'the', 'rats', 'they', 'were', 'playin', 'peeka-boo', 'who', 'should', 'awaken', 'but', 'the', 'woman', 'of', 'the', 'house', 'with', 'here', 'white', 'spotted', 'apron', 'and', 'her', 'calico', 'blouse', 'she', 'began', 'to', 'frighten', 'when', 'said', 'boo', 'sayin', 'do', \"n't\", 'be', 'afraid', \"ma'am\", 'it', \"'s\", 'old', 'johnny', 'dhu', 'met', 'little', 'flay', 'haired', 'girl', 'one', 'day', 'good', 'morning', 'little', 'flay', 'haired', 'girl', 'say', 'good', 'morning', 'little', 'beggar', 'man', 'and', 'how', 'do', 'you', 'do', 'with', 'your', 'rags', 'and', 'your', 'tags', 'and', 'your', 'old', 'rigaioo', 'buy', 'pair', 'of', 'leggings', 'and', 'collar', 'and', 'be', 'and', 'nice', 'big', 'lady', 'will', 'fetch', 'by', 'and', 'by', 'buy', 'pair', 'of', 'goggles', 'and', \"'ll\", 'color', 'them', 'blue', 'and', 'an', 'old', 'fashioned', 'lady', 'will', 'make', 'her', 'too', 'over', 'the', 'fields', 'with', 'the', 'pack', 'on', 'my', 'back', 'over', 'the', 'field', 'with', 'my', 'great', 'heavy', 'sack', 'with', 'the', 'holes', 'in', 'my', 'shoes', 'and', 'the', 'toes', \"a'peekin\", 'through', 'singin', 'skittilee', 'rink-a-doodle', 'it', \"'s\", 'the', 'old', 'johnny', 'dhu', 'must', 'be', 'going', 'to', 'bed', 'boys', 'it', \"'s\", 'gettin', 'late', 'at', 'night', 'all', 'the', 'fire', \"'s\", 'all', 'raked', 'and', 'up', 'goes', 'the', 'light', 'and', 'now', 'you', \"'ve\", 'heard', 'the', 'story', 'of', 'my', 'old', 'rigadoo', 'it', \"'s\", '``', 'good-bye', 'god', 'be', 'with', 'you', 'sings', 'the', 'old', 'johnny', 'dhu'], tags=['Rock'])],\n",
       "      dtype=object)"
      ]
     },
     "execution_count": 25,
     "metadata": {},
     "output_type": "execute_result"
    }
   ],
   "source": [
    "train_tagged.values"
   ]
  },
  {
   "cell_type": "code",
   "execution_count": 26,
   "metadata": {},
   "outputs": [
    {
     "name": "stderr",
     "output_type": "stream",
     "text": [
      "100%|██████████| 186589/186589 [00:00<00:00, 2227985.19it/s]\n"
     ]
    }
   ],
   "source": [
    "model_dbow = Doc2Vec(dm=0, vector_size=300, negative=5, hs=0, min_count=2, sample = 0, workers=cores)\n",
    "model_dbow.build_vocab([x for x in tqdm(train_tagged.values)])"
   ]
  },
  {
   "cell_type": "code",
   "execution_count": 27,
   "metadata": {},
   "outputs": [
    {
     "name": "stderr",
     "output_type": "stream",
     "text": [
      "100%|██████████| 186589/186589 [00:00<00:00, 2108900.83it/s]\n",
      "100%|██████████| 186589/186589 [00:00<00:00, 2738192.42it/s]\n",
      "100%|██████████| 186589/186589 [00:00<00:00, 2854181.97it/s]\n",
      "100%|██████████| 186589/186589 [00:00<00:00, 2902213.86it/s]\n",
      "100%|██████████| 186589/186589 [00:00<00:00, 2891063.87it/s]\n",
      "100%|██████████| 186589/186589 [00:00<00:00, 2967751.80it/s]\n",
      "100%|██████████| 186589/186589 [00:00<00:00, 2667985.94it/s]\n",
      "100%|██████████| 186589/186589 [00:00<00:00, 2890070.97it/s]\n",
      "100%|██████████| 186589/186589 [00:00<00:00, 2969181.76it/s]\n",
      "100%|██████████| 186589/186589 [00:00<00:00, 2834191.58it/s]\n",
      "100%|██████████| 186589/186589 [00:00<00:00, 2947731.75it/s]\n",
      "100%|██████████| 186589/186589 [00:00<00:00, 3096543.00it/s]\n",
      "100%|██████████| 186589/186589 [00:00<00:00, 2757012.17it/s]\n",
      "100%|██████████| 186589/186589 [00:00<00:00, 2876664.60it/s]\n",
      "100%|██████████| 186589/186589 [00:00<00:00, 2806264.30it/s]\n",
      "100%|██████████| 186589/186589 [00:00<00:00, 2851727.52it/s]\n",
      "100%|██████████| 186589/186589 [00:00<00:00, 2918415.25it/s]\n",
      "100%|██████████| 186589/186589 [00:00<00:00, 2700903.13it/s]\n",
      "100%|██████████| 186589/186589 [00:00<00:00, 2617060.44it/s]\n",
      "100%|██████████| 186589/186589 [00:00<00:00, 2823842.44it/s]\n",
      "100%|██████████| 186589/186589 [00:00<00:00, 3014842.82it/s]\n",
      "100%|██████████| 186589/186589 [00:00<00:00, 2878971.55it/s]\n",
      "100%|██████████| 186589/186589 [00:00<00:00, 3005095.42it/s]\n",
      "100%|██████████| 186589/186589 [00:00<00:00, 3031601.62it/s]\n",
      "100%|██████████| 186589/186589 [00:00<00:00, 2940411.07it/s]\n",
      "100%|██████████| 186589/186589 [00:00<00:00, 2979377.59it/s]\n",
      "100%|██████████| 186589/186589 [00:00<00:00, 2965210.56it/s]\n",
      "100%|██████████| 186589/186589 [00:00<00:00, 2814874.06it/s]\n",
      "100%|██████████| 186589/186589 [00:00<00:00, 2928089.54it/s]\n",
      "100%|██████████| 186589/186589 [00:00<00:00, 2782834.53it/s]\n"
     ]
    },
    {
     "name": "stdout",
     "output_type": "stream",
     "text": [
      "CPU times: user 50min 28s, sys: 41.9 s, total: 51min 10s\n",
      "Wall time: 1h 2min 31s\n"
     ]
    }
   ],
   "source": [
    "%%time\n",
    "for epoch in range(30):\n",
    "    model_dbow.train(utils.shuffle([x for x in tqdm(train_tagged.values)]), total_examples=len(train_tagged.values), epochs=1)\n",
    "    model_dbow.alpha -= 0.002\n",
    "    model_dbow.min_alpha = model_dbow.alpha"
   ]
  },
  {
   "cell_type": "code",
   "execution_count": 28,
   "metadata": {},
   "outputs": [],
   "source": [
    "def vec_for_learning(model, tagged_docs):\n",
    "    sents = tagged_docs.values\n",
    "    targets, regressors = zip(*[(doc.tags[0], model.infer_vector(doc.words, steps=20)) for doc in sents])\n",
    "    return targets, regressors\n"
   ]
  },
  {
   "cell_type": "code",
   "execution_count": null,
   "metadata": {},
   "outputs": [],
   "source": [
    "y_train, X_train = vec_for_learning(model_dbow, train_tagged)\n",
    "y_test, X_test = vec_for_learning(model_dbow, test_tagged)\n",
    "logreg = LogisticRegression(n_jobs=1, C=1e5)\n",
    "logreg.fit(X_train, y_train)\n",
    "y_pred = logreg.predict(X_test)\n",
    "from sklearn.metrics import accuracy_score, f1_score\n",
    "print('Testing accuracy %s' % accuracy_score(y_test, y_pred))\n",
    "print('Testing F1 score: {}'.format(f1_score(y_test, y_pred, average='weighted')))"
   ]
  },
  {
   "cell_type": "code",
   "execution_count": null,
   "metadata": {},
   "outputs": [],
   "source": []
  }
 ],
 "metadata": {
  "kernelspec": {
   "display_name": "Python 3",
   "language": "python",
   "name": "python3"
  },
  "language_info": {
   "codemirror_mode": {
    "name": "ipython",
    "version": 3
   },
   "file_extension": ".py",
   "mimetype": "text/x-python",
   "name": "python",
   "nbconvert_exporter": "python",
   "pygments_lexer": "ipython3",
   "version": "3.7.4"
  }
 },
 "nbformat": 4,
 "nbformat_minor": 2
}
